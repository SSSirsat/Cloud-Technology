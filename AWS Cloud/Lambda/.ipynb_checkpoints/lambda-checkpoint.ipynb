{
 "cells": [
  {
   "cell_type": "code",
   "execution_count": 1,
   "id": "79ac843a",
   "metadata": {},
   "outputs": [],
   "source": [
    "# Copyright Amazon.com, Inc. or its affiliates. All Rights Reserved.\n",
    "# SPDX-License-Identifier: Apache-2.0\n",
    "\n",
    "\"\"\"\n",
    "Purpose\n",
    "\n",
    "Shows how to implement an AWS Lambda function that handles input from direct\n",
    "invocation.\n",
    "\"\"\"\n",
    "\n",
    "import logging\n",
    "\n",
    "logger = logging.getLogger()\n",
    "logger.setLevel(logging.INFO)\n",
    "\n",
    "\n",
    "def lambda_handler(event, context):\n",
    "    \"\"\"\n",
    "    Accepts an action and a single number, performs the specified action on the number,\n",
    "    and returns the result. The only allowable action is 'increment'.\n",
    "\n",
    "    :param event: The event dict that contains the parameters sent when the function\n",
    "                  is invoked.\n",
    "    :param context: The context in which the function is called.\n",
    "    :return: The result of the action.\n",
    "    \"\"\"\n",
    "    result = None\n",
    "    action = event.get('action')\n",
    "    if action == 'increment':\n",
    "        result = event.get('number', 0) + 1\n",
    "        logger.info('Calculated result of %s', result)\n",
    "    else:\n",
    "        logger.error(\"%s is not a valid action.\", action)\n",
    "\n",
    "    response = {'result': result}\n",
    "    return response\n"
   ]
  },
  {
   "cell_type": "code",
   "execution_count": 2,
   "id": "b7ff6308",
   "metadata": {},
   "outputs": [],
   "source": [
    "data= {\n",
    "  \"TemperatureK\": 281,\n",
    "  \"WindKmh\": -3,\n",
    "  \"HumidityPct\": 0.55,\n",
    "  \"PressureHPa\": 1020\n",
    "} "
   ]
  },
  {
   "cell_type": "code",
   "execution_count": 5,
   "id": "5307a7e4",
   "metadata": {},
   "outputs": [
    {
     "name": "stdout",
     "output_type": "stream",
     "text": [
      "{'TemperatureK': 281, 'WindKmh': -3, 'HumidityPct': 0.55, 'PressureHPa': 1020}\n"
     ]
    }
   ],
   "source": [
    "type(data)\n",
    "print(data)"
   ]
  },
  {
   "cell_type": "code",
   "execution_count": null,
   "id": "2d0d7807",
   "metadata": {},
   "outputs": [],
   "source": [
    "lambda_handler(data)"
   ]
  },
  {
   "cell_type": "code",
   "execution_count": null,
   "id": "b665efbc",
   "metadata": {},
   "outputs": [],
   "source": [
    "import time\n",
    "\n",
    "def lambda_handler(event, context):   \n",
    "    print(\"Lambda function ARN:\", context.invoked_function_arn)\n",
    "    print(\"CloudWatch log stream name:\", context.log_stream_name)\n",
    "    print(\"CloudWatch log group name:\",  context.log_group_name)\n",
    "    print(\"Lambda Request ID:\", context.aws_request_id)\n",
    "    print(\"Lambda function memory limits in MB:\", context.memory_limit_in_mb)\n",
    "    # We have added a 1 second delay so you can see the time remaining in get_remaining_time_in_millis.\n",
    "    time.sleep(1) \n",
    "    print(\"Lambda time remaining in MS:\", context.get_remaining_time_in_millis())"
   ]
  }
 ],
 "metadata": {
  "kernelspec": {
   "display_name": "Python 3 (ipykernel)",
   "language": "python",
   "name": "python3"
  },
  "language_info": {
   "codemirror_mode": {
    "name": "ipython",
    "version": 3
   },
   "file_extension": ".py",
   "mimetype": "text/x-python",
   "name": "python",
   "nbconvert_exporter": "python",
   "pygments_lexer": "ipython3",
   "version": "3.9.12"
  }
 },
 "nbformat": 4,
 "nbformat_minor": 5
}
